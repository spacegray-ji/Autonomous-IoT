{
 "cells": [
  {
   "cell_type": "markdown",
   "id": "2f7b0b28",
   "metadata": {},
   "source": [
    "# SPVNAS\n",
    "\n",
    "- Utilities\n",
    "1. Coordinate Hashing\n",
    "2. Voxelization\n",
    "- Modules\n",
    "0. Sparse Tensor\n",
    "1. Sparse Convolution\n",
    "2. Sparse Point-Voxel Convolution (SPVConv) "
   ]
  },
  {
   "cell_type": "code",
   "execution_count": 1,
   "id": "1d369c80",
   "metadata": {},
   "outputs": [
    {
     "name": "stdout",
     "output_type": "stream",
     "text": [
      "1.12.1\n"
     ]
    }
   ],
   "source": [
    "import random\n",
    "\n",
    "import torch\n",
    "import torch.nn as nn\n",
    "import numpy as np\n",
    "print(torch.__version__)"
   ]
  },
  {
   "cell_type": "markdown",
   "id": "56e153e2",
   "metadata": {},
   "source": [
    "#### Install PyTorch Scatter Library (Linux, MacOS, and Windows are supported)\n",
    "- Installation guide: https://github.com/rusty1s/pytorch_scatter"
   ]
  },
  {
   "cell_type": "code",
   "execution_count": 2,
   "id": "1b0de6c7",
   "metadata": {},
   "outputs": [
    {
     "name": "stdout",
     "output_type": "stream",
     "text": [
      "Looking in links: https://data.pyg.org/whl/torch-1.12.1+cpu.html\n",
      "Requirement already satisfied: torch-scatter in /opt/anaconda3/envs/fastcampus/lib/python3.7/site-packages (2.0.9)\n",
      "\u001b[33mWARNING: Running pip as the 'root' user can result in broken permissions and conflicting behaviour with the system package manager. It is recommended to use a virtual environment instead: https://pip.pypa.io/warnings/venv\u001b[0m\u001b[33m\n",
      "\u001b[0m"
     ]
    }
   ],
   "source": [
    "!pip install torch-scatter -f https://data.pyg.org/whl/torch-1.12.1+cpu.html"
   ]
  },
  {
   "cell_type": "code",
   "execution_count": 3,
   "id": "f1684c4d",
   "metadata": {},
   "outputs": [],
   "source": [
    "import torch_scatter"
   ]
  },
  {
   "cell_type": "markdown",
   "id": "57fde880",
   "metadata": {},
   "source": [
    "#### There are several libraries to support `sparse convolution`:\n",
    "- MinkowskiEngine: https://github.com/NVIDIA/MinkowskiEngine\n",
    "- TorchSparse: https://github.com/mit-han-lab/torchsparse\n",
    "- SpConv: https://github.com/traveller59/spconv\n",
    "\n",
    "This notebook uses MinkowskiEngine."
   ]
  },
  {
   "cell_type": "markdown",
   "id": "326bb754",
   "metadata": {},
   "source": [
    "#### Install MinkowskiEngine Library (Only Ubuntu is supported)\n",
    "- Installation guide: https://github.com/NVIDIA/MinkowskiEngine\n",
    "- Since we do not use GPU acceleration, cpu-only version is fine."
   ]
  },
  {
   "cell_type": "markdown",
   "id": "59dd09f9",
   "metadata": {},
   "source": [
    "#### Full commands I have used for the environment:\n",
    "On Ubuntu 18.04,\n",
    "```\n",
    "$ conda create -n fastcampus python=3.7 -y\n",
    "$ conda activate fastcampus\n",
    "(fastcampus) $ conda install pytorch torchvision torchaudio cpuonly -c pytorch -y\n",
    "(fastcampus) $ conda install openblas-devel -c anaconda -y\n",
    "(fastcampus) $ pip install torch-scatter -f https://data.pyg.org/whl/torch-1.12.1+cpu.html\n",
    "(fastcampus) $ pip install -U git+https://github.com/NVIDIA/MinkowskiEngine -v --no-deps --install-option=\"--blas_include_dirs=${CONDA_PREFIX}/include\" --install-option=\"--cpu_only\"\n",
    "(fastcampus) $ pip install notebook\n",
    "```"
   ]
  },
  {
   "cell_type": "code",
   "execution_count": 4,
   "id": "5e31d516",
   "metadata": {},
   "outputs": [
    {
     "name": "stderr",
     "output_type": "stream",
     "text": [
      "/opt/anaconda3/envs/fastcampus/lib/python3.7/site-packages/MinkowskiEngine/__init__.py:42: UserWarning: The environment variable `OMP_NUM_THREADS` not set. MinkowskiEngine will automatically set `OMP_NUM_THREADS=16`. If you want to set `OMP_NUM_THREADS` manually, please export it on the command line before running a python script. e.g. `export OMP_NUM_THREADS=12; python your_program.py`. It is recommended to set it below 24.\n",
      "  \"It is recommended to set it below 24.\",\n",
      "/opt/anaconda3/envs/fastcampus/lib/python3.7/site-packages/MinkowskiEngine/__init__.py:225: UserWarning: The MinkowskiEngine was compiled with CPU_ONLY flag. If you want to compile with CUDA support, make sure `torch.cuda.is_available()` is True when you install MinkowskiEngine.\n",
      "  \"If you want to compile with CUDA support, make sure `torch.cuda.is_available()` is True when you install MinkowskiEngine.\",\n"
     ]
    }
   ],
   "source": [
    "import MinkowskiEngine as ME"
   ]
  },
  {
   "cell_type": "markdown",
   "id": "9bc71760",
   "metadata": {},
   "source": [
    "## Utilities"
   ]
  },
  {
   "cell_type": "markdown",
   "id": "1880e809",
   "metadata": {},
   "source": [
    "### 1. Coordinate Hashing (NumPy)\n",
    "- Input: voxel indices (N, 3), dtype: int\n",
    "- Output: the output hash key (N,) dtype: uint64"
   ]
  },
  {
   "cell_type": "code",
   "execution_count": 5,
   "id": "d4a606e4",
   "metadata": {},
   "outputs": [],
   "source": [
    "def ravel_hash(voxel_indices):\n",
    "    # 1. Find the maximum value of each axis.\n",
    "    max_index = np.max(voxel_indices, axis=0).astype(np.uint64) + 1\n",
    "    \n",
    "    # 2. Hashing\n",
    "    keys = np.zeros(len(voxel_indices), dtype=np.uint64)\n",
    "    for d in range(voxel_indices.shape[1] - 1): # dimension\n",
    "        keys += voxel_indices[:, d]\n",
    "        keys *= max_index[d + 1]\n",
    "    keys += voxel_indices[:, -1]\n",
    "    \n",
    "    return keys"
   ]
  },
  {
   "cell_type": "code",
   "execution_count": 6,
   "id": "61dc0693",
   "metadata": {},
   "outputs": [
    {
     "name": "stdout",
     "output_type": "stream",
     "text": [
      "(100,)\n",
      "[ 80124 101522  27085 104077  39531  83395 114710  75434  52978  98661\n",
      "  78653   9868  12972   2216 123514  29779  19242  80672  81327 114496\n",
      " 108399 109561  40284  32324 124171  96369   3259  36842 109757 118175\n",
      " 120817  12114  17455  96765  34064  43451  94597 124493  61401  31135\n",
      "  37963 118940 123780 115904  55155  17586  80579  65816   7538  38793\n",
      "  54235 121742  95221 110037  64789 100083 111279  49505  46166  87573\n",
      "  74684  31817  77589  92719  87408  18746  92182 124149 100910  74573\n",
      "  18776  23072 117475  81395  43131  32169  75392  44292 119008 112761\n",
      " 110113  21827 118341  73797 107387  36226  38249  42403  14755 107365\n",
      "   8556  24736  14855 112135  97791  98972  25940  21286  72179 112503]\n"
     ]
    }
   ],
   "source": [
    "N = 100\n",
    "\n",
    "voxel_indices = np.random.randint(low=0, high=50, size=(N, 3), dtype=np.uint64)\n",
    "keys = ravel_hash(voxel_indices)\n",
    "print(keys.shape)\n",
    "print(keys) # Note that there may be some points whose hash keys are the same."
   ]
  },
  {
   "cell_type": "markdown",
   "id": "4dbdafed",
   "metadata": {},
   "source": [
    "### 2. Voxelization (NumPy)\n",
    "- Input: points (N, 3), voxel size\n",
    "- Output: origin (3,), voxel indices (M, 3), unique mapping (M,), inverse mapping (N,)\n",
    "\n",
    "The unique mapping is an index mapping from point indices to (unique) voxel indices. \\\n",
    "The inverse mapping is the inverse of unique mapping (this indicates which voxel a point corresponds to)."
   ]
  },
  {
   "cell_type": "code",
   "execution_count": 7,
   "id": "eaf9ac4e",
   "metadata": {},
   "outputs": [],
   "source": [
    "def voxelize(points, voxel_size):\n",
    "    # 1. Make all the coordinates positive\n",
    "    origin = np.min(points, axis=0)\n",
    "    points = points - origin\n",
    "    \n",
    "    # 2. Make the voxel indices and hash keys\n",
    "    voxel_indices = np.floor(points / voxel_size).astype(np.uint64)\n",
    "    keys = ravel_hash(voxel_indices)\n",
    "    \n",
    "    # 3. Find the unique voxel indices and the mappings.\n",
    "    _, unique_mapping, inverse_mapping = np.unique(keys, return_index=True, return_inverse=True)\n",
    "    unique_voxel_indices = voxel_indices[unique_mapping]\n",
    "    \n",
    "    return origin, unique_voxel_indices, unique_mapping, inverse_mapping"
   ]
  },
  {
   "cell_type": "code",
   "execution_count": 8,
   "id": "83a89352",
   "metadata": {},
   "outputs": [
    {
     "name": "stdout",
     "output_type": "stream",
     "text": [
      "[-2.49306876 -2.29741528 -2.54250384]\n",
      "(51, 3)\n",
      "(51,)\n",
      "(100,)\n"
     ]
    }
   ],
   "source": [
    "N = 100\n",
    "l = 1. # voxel size\n",
    "\n",
    "points = np.random.randn(N, 3)\n",
    "origin, voxels, unique_map, inverse_map = voxelize(points, l)\n",
    "print(origin)\n",
    "print(voxels.shape)\n",
    "print(unique_map.shape)\n",
    "print(inverse_map.shape)"
   ]
  },
  {
   "cell_type": "markdown",
   "id": "f6401af8",
   "metadata": {},
   "source": [
    "#### Why `origin` is needed?"
   ]
  },
  {
   "cell_type": "code",
   "execution_count": 9,
   "id": "de4d0cea",
   "metadata": {
    "scrolled": true
   },
   "outputs": [
    {
     "name": "stdout",
     "output_type": "stream",
     "text": [
      "[0 0 0]\n",
      "[-2.49306876 -2.29741528 -2.54250384]\n",
      "[-1.99306876 -1.79741528 -2.04250384]\n"
     ]
    }
   ],
   "source": [
    "# The origin can be used to know the Euclidean coordinates of voxel centers.\n",
    "# (0, 0, 0) -> origin\n",
    "# the center of [0, 0, 0] voxel = (0.5, 0.5, 0.5)\n",
    "\n",
    "voxel_index = voxels[0]\n",
    "print(voxel_index)\n",
    "voxel_center = (voxel_index + 0.5) * l + origin\n",
    "print(origin)\n",
    "print(voxel_center)"
   ]
  },
  {
   "cell_type": "markdown",
   "id": "7a4028b6",
   "metadata": {},
   "source": [
    "#### The (pooled) voxel features can be calculated from point-wise features using `torch_scatter`!"
   ]
  },
  {
   "cell_type": "code",
   "execution_count": 10,
   "id": "fce1ecca",
   "metadata": {},
   "outputs": [
    {
     "name": "stdout",
     "output_type": "stream",
     "text": [
      "[voxelization] 100 points -> 53 voxels\n",
      "torch.Size([53, 4])\n",
      "torch.Size([53, 4])\n"
     ]
    }
   ],
   "source": [
    "N = 100\n",
    "C = 4 # the dimension of point-wise features\n",
    "l = 1. # voxel size\n",
    "\n",
    "points = torch.randn(N, 3)\n",
    "features = torch.randn(N, C)\n",
    "\n",
    "# First, voxelize the points.\n",
    "origin, voxels, unique_map, inverse_map = voxelize(points.numpy(), l)\n",
    "M = len(voxels)\n",
    "print(f\"[voxelization] {N} points -> {M} voxels\")\n",
    "\n",
    "# Then, calculate voxel features.\n",
    "# Option 1: MaxPool\n",
    "voxel_features, _ = torch_scatter.scatter_max(features, torch.from_numpy(inverse_map), dim=0, dim_size=M)\n",
    "print(voxel_features.shape)\n",
    "\n",
    "# Option 2: AvgPool\n",
    "voxel_features = torch_scatter.scatter_mean(features, torch.from_numpy(inverse_map), dim=0, dim_size=M)\n",
    "print(voxel_features.shape)"
   ]
  },
  {
   "cell_type": "markdown",
   "id": "2f2b4ed3",
   "metadata": {},
   "source": [
    "## Modules"
   ]
  },
  {
   "cell_type": "markdown",
   "id": "c30d3357",
   "metadata": {},
   "source": [
    "### 0. Sparse Tensor\n",
    "- Sparse Tensor is a basic data structure for sparse convolution and sparse point-voxel convolution.\n",
    "- MinkowskiEngine and TorchSparse support Sparse Tensor with the same API.\n",
    "- Here is a common process to convert an input point cloud with features into the sparse tensor."
   ]
  },
  {
   "cell_type": "code",
   "execution_count": 11,
   "id": "3fb115bc",
   "metadata": {
    "scrolled": true
   },
   "outputs": [
    {
     "name": "stdout",
     "output_type": "stream",
     "text": [
      "SparseTensor(\n",
      "  coordinates=tensor([[ 0, -3,  0, -1],\n",
      "        [ 0,  0, -1,  1],\n",
      "        [ 0,  0, -1, -1],\n",
      "        [ 0, -2,  0,  2],\n",
      "        [ 0, -1, -2, -1],\n",
      "        [ 0,  0,  0, -1],\n",
      "        [ 0,  0, -1,  0],\n",
      "        [ 0,  0, -2, -2],\n",
      "        [ 0,  0, -2,  0],\n",
      "        [ 0, -1, -1, -2],\n",
      "        [ 0, -2,  0,  0],\n",
      "        [ 0,  0,  0,  1],\n",
      "        [ 0, -1,  0,  0],\n",
      "        [ 0, -1, -2, -2],\n",
      "        [ 0, -2, -1, -1],\n",
      "        [ 0,  0,  0,  2],\n",
      "        [ 0, -1, -2,  0],\n",
      "        [ 0, -1,  0, -1],\n",
      "        [ 0,  0,  0,  0],\n",
      "        [ 0,  0,  1,  0],\n",
      "        [ 0, -1, -1,  1],\n",
      "        [ 0, -2,  0, -1],\n",
      "        [ 0, -1, -1, -1],\n",
      "        [ 0,  0, -2, -1],\n",
      "        [ 0, -2, -1,  0],\n",
      "        [ 0,  2, -2,  0],\n",
      "        [ 0, -2, -2, -2],\n",
      "        [ 0,  1, -2, -1],\n",
      "        [ 0, -1,  1,  1],\n",
      "        [ 0, -3, -1,  0],\n",
      "        [ 0, -1, -1,  0],\n",
      "        [ 0, -1,  0,  2],\n",
      "        [ 0,  0, -1, -2],\n",
      "        [ 0, -1, -1,  2],\n",
      "        [ 0,  1,  0,  0],\n",
      "        [ 0, -1,  0, -2],\n",
      "        [ 0,  0, -1, -3],\n",
      "        [ 0,  1,  1, -1],\n",
      "        [ 0, -1,  0, -3],\n",
      "        [ 0, -1,  0,  1],\n",
      "        [ 0,  1, -1,  1],\n",
      "        [ 0, -2, -2, -1],\n",
      "        [ 0, -2,  0,  1],\n",
      "        [ 0, -1, -1, -3],\n",
      "        [ 0, -1,  1,  0],\n",
      "        [ 0, -3,  0,  0]], dtype=torch.int32)\n",
      "  features=tensor([[-1.2090, -1.2555,  2.4113,  0.3298],\n",
      "        [-0.0042, -0.0756, -0.6173,  0.1634],\n",
      "        [-0.2116, -0.6854,  0.2340, -0.0073],\n",
      "        [-0.5655,  1.8413, -0.6462, -0.6460],\n",
      "        [ 0.3809, -0.3477, -1.1640,  0.4411],\n",
      "        [-0.2042, -0.2286,  0.5001, -0.6073],\n",
      "        [ 0.6533,  0.2846, -0.0147,  0.0704],\n",
      "        [ 1.2131, -0.3957, -0.9220,  0.4690],\n",
      "        [-0.0041, -0.2178,  0.4626, -0.1310],\n",
      "        [-0.5928,  0.5273,  1.2702,  0.0182],\n",
      "        [-0.4204,  0.0644,  0.4062,  0.9171],\n",
      "        [-0.7140,  0.5597,  0.2043, -0.6675],\n",
      "        [-0.5595, -0.7728,  0.0233, -0.1751],\n",
      "        [-0.3555, -1.0394,  1.0727, -0.9918],\n",
      "        [ 0.2347, -0.4040,  0.0889,  0.1517],\n",
      "        [ 0.6070, -0.1802,  1.8053,  0.2302],\n",
      "        [-0.4357, -0.0157, -0.1768,  0.6150],\n",
      "        [ 1.2071, -0.4286, -0.2528, -0.8465],\n",
      "        [-0.0376,  0.2206,  0.3876, -0.0989],\n",
      "        [ 0.5735,  0.1961, -0.1917, -1.2413],\n",
      "        [-0.4019, -0.5842,  0.2868, -0.3178],\n",
      "        [ 0.9720, -0.0370, -0.4215,  0.0660],\n",
      "        [-0.1352, -0.5990,  0.2912,  0.0386],\n",
      "        [ 0.7240, -0.6235, -0.3557,  0.8698],\n",
      "        [ 0.6001,  0.6552,  0.0782, -0.4495],\n",
      "        [ 1.1042, -0.5368,  1.1973, -2.5342],\n",
      "        [-0.6218, -1.7500, -1.0013,  2.0026],\n",
      "        [ 0.8545, -0.3965,  1.0409,  0.0967],\n",
      "        [-0.1486,  0.4623, -1.7072, -1.9122],\n",
      "        [-1.0013, -0.5930, -1.0954,  1.5588],\n",
      "        [-0.1879, -0.0064, -0.2627, -0.1787],\n",
      "        [ 0.3812, -0.5887, -0.0470, -0.4014],\n",
      "        [-0.0886,  0.5633, -0.4534, -0.2103],\n",
      "        [-0.2767, -1.0971, -0.6026,  0.2938],\n",
      "        [ 1.2444,  1.3375,  0.4268,  0.8910],\n",
      "        [-0.6203,  0.8792, -0.9007,  0.7852],\n",
      "        [-2.4039, -0.9257,  0.0987, -1.3404],\n",
      "        [ 0.5828,  0.5995, -1.6359, -0.3527],\n",
      "        [-0.2582,  0.3995,  1.4427,  0.4100],\n",
      "        [-0.5624, -0.4155,  0.8719,  0.0516],\n",
      "        [-0.7279, -0.8800,  0.1635, -1.4285],\n",
      "        [ 1.2400, -0.4585, -1.6219,  0.4741],\n",
      "        [ 0.2808,  1.2334,  0.4796,  0.7510],\n",
      "        [ 2.0666, -0.4366, -0.4394, -0.0228],\n",
      "        [ 0.7580,  0.8999,  0.0223, -0.7936],\n",
      "        [ 0.1424,  0.5936,  0.5533, -0.9960]])\n",
      "  coordinate_map_key=coordinate map key:[1, 1, 1]\n",
      "  coordinate_manager=CoordinateMapManagerCPU(\n",
      "\t[1, 1, 1, \b\b]:\tCoordinateMapCPU:46x4\n",
      "\tTensorField [1, 1, 1, \b\b]:\tCoordinateFieldMapCPU:100x4\n",
      "\talgorithm=MinkowskiAlgorithm.DEFAULT\n",
      "  )\n",
      "  spatial dimension=3)\n"
     ]
    }
   ],
   "source": [
    "N1 = 100\n",
    "C = 4 # the dimension of point-wise features\n",
    "l = 1. # voxel size\n",
    "\n",
    "points = torch.randn(N, 3)\n",
    "features = torch.randn(N, C)\n",
    "\n",
    "# Make a TensorField (setup for sparse quantization). You can consider this as a point cloud\n",
    "tfield = ME.TensorField(\n",
    "    features=features,\n",
    "    coordinates=ME.utils.batched_coordinates([points / l], dtype=torch.float32)\n",
    ")\n",
    "# TensorField -> Sparse Tensor\n",
    "stensor = tfield.sparse()\n",
    "\n",
    "print(stensor)"
   ]
  },
  {
   "cell_type": "markdown",
   "id": "82b96184",
   "metadata": {},
   "source": [
    "### 1. Sparse Convolution\n",
    "- Both MinkowskiEngine and TorchSparse supports sparse convolution."
   ]
  },
  {
   "cell_type": "code",
   "execution_count": 13,
   "id": "c60f42f6",
   "metadata": {
    "scrolled": true
   },
   "outputs": [
    {
     "name": "stdout",
     "output_type": "stream",
     "text": [
      "torch.Size([46, 4])\n",
      "torch.Size([46, 8])\n",
      "SparseTensor(\n",
      "  coordinates=tensor([[ 0, -3,  0, -1],\n",
      "        [ 0,  0, -1,  1],\n",
      "        [ 0,  0, -1, -1],\n",
      "        [ 0, -2,  0,  2],\n",
      "        [ 0, -1, -2, -1],\n",
      "        [ 0,  0,  0, -1],\n",
      "        [ 0,  0, -1,  0],\n",
      "        [ 0,  0, -2, -2],\n",
      "        [ 0,  0, -2,  0],\n",
      "        [ 0, -1, -1, -2],\n",
      "        [ 0, -2,  0,  0],\n",
      "        [ 0,  0,  0,  1],\n",
      "        [ 0, -1,  0,  0],\n",
      "        [ 0, -1, -2, -2],\n",
      "        [ 0, -2, -1, -1],\n",
      "        [ 0,  0,  0,  2],\n",
      "        [ 0, -1, -2,  0],\n",
      "        [ 0, -1,  0, -1],\n",
      "        [ 0,  0,  0,  0],\n",
      "        [ 0,  0,  1,  0],\n",
      "        [ 0, -1, -1,  1],\n",
      "        [ 0, -2,  0, -1],\n",
      "        [ 0, -1, -1, -1],\n",
      "        [ 0,  0, -2, -1],\n",
      "        [ 0, -2, -1,  0],\n",
      "        [ 0,  2, -2,  0],\n",
      "        [ 0, -2, -2, -2],\n",
      "        [ 0,  1, -2, -1],\n",
      "        [ 0, -1,  1,  1],\n",
      "        [ 0, -3, -1,  0],\n",
      "        [ 0, -1, -1,  0],\n",
      "        [ 0, -1,  0,  2],\n",
      "        [ 0,  0, -1, -2],\n",
      "        [ 0, -1, -1,  2],\n",
      "        [ 0,  1,  0,  0],\n",
      "        [ 0, -1,  0, -2],\n",
      "        [ 0,  0, -1, -3],\n",
      "        [ 0,  1,  1, -1],\n",
      "        [ 0, -1,  0, -3],\n",
      "        [ 0, -1,  0,  1],\n",
      "        [ 0,  1, -1,  1],\n",
      "        [ 0, -2, -2, -1],\n",
      "        [ 0, -2,  0,  1],\n",
      "        [ 0, -1, -1, -3],\n",
      "        [ 0, -1,  1,  0],\n",
      "        [ 0, -3,  0,  0]], dtype=torch.int32)\n",
      "  features=tensor([[-3.9235e-01,  2.6959e-01, -1.3784e-01, -1.2776e-01,  1.1650e-02,\n",
      "         -1.9473e-01,  5.9774e-02, -7.0699e-03],\n",
      "        [-1.3680e-01,  5.2847e-02,  1.8390e-01,  5.4894e-01, -3.1121e-01,\n",
      "          3.2775e-01, -2.5313e-02,  2.8012e-01],\n",
      "        [-2.6984e-01, -3.7290e-01,  5.7150e-01, -6.3434e-02, -8.3954e-02,\n",
      "          1.2383e-01,  1.4974e-01, -2.4434e-01],\n",
      "        [-4.7558e-01, -2.2845e-03, -2.7984e-01,  1.1941e-03, -2.0834e-01,\n",
      "         -4.1427e-02,  3.0989e-02,  1.5946e-01],\n",
      "        [ 2.7719e-01, -2.8622e-01,  1.1400e-01, -2.7458e-01,  4.5355e-01,\n",
      "          2.3917e-01, -3.5227e-01,  1.1204e-01],\n",
      "        [-1.6731e-01, -4.3133e-02, -2.3538e-01, -4.4715e-01,  4.5757e-01,\n",
      "         -3.7401e-01, -8.9270e-02,  1.6198e-01],\n",
      "        [ 1.6341e-01,  1.1144e-01,  4.6606e-01,  4.7036e-02, -5.9878e-02,\n",
      "          6.4345e-02, -2.6621e-01,  5.0061e-02],\n",
      "        [ 4.7082e-01,  1.8444e-01,  4.5351e-01, -1.8275e-01,  5.6293e-02,\n",
      "          1.8281e-01,  4.9844e-01, -1.5052e-02],\n",
      "        [-2.6467e-01,  2.1611e-01, -2.8864e-01, -6.0237e-02, -1.4407e-01,\n",
      "          3.4028e-02,  1.4891e-01,  1.9824e-01],\n",
      "        [-6.5818e-01,  4.0346e-01, -2.9942e-01,  1.1383e-01,  2.7125e-01,\n",
      "         -5.0509e-01,  3.2972e-01,  4.0543e-02],\n",
      "        [-3.3586e-01, -2.4405e-01,  2.8222e-01, -3.2347e-01, -4.0943e-01,\n",
      "         -4.8461e-01, -1.8330e-01,  6.6750e-01],\n",
      "        [-2.8368e-01,  1.5513e-01, -6.7233e-01,  3.0691e-01, -2.9796e-02,\n",
      "          2.0119e-02, -2.8919e-02,  3.7422e-01],\n",
      "        [-4.9299e-01,  9.6323e-02, -2.6981e-01,  2.0632e-03,  6.5144e-01,\n",
      "          2.9997e-01,  3.7012e-01,  3.2727e-03],\n",
      "        [ 4.0631e-01, -2.7831e-01, -3.5932e-01,  3.3088e-01,  2.6861e-01,\n",
      "          9.1322e-02, -4.8214e-01, -4.7905e-01],\n",
      "        [-8.5701e-02,  2.0968e-02,  3.2825e-01, -8.2120e-02,  1.1695e-01,\n",
      "          1.5915e-01,  4.7963e-01,  1.5704e-01],\n",
      "        [-1.1735e-01,  2.2475e-01, -3.9242e-02,  6.8706e-02,  5.3384e-02,\n",
      "          7.9422e-02, -3.3020e-01, -3.0650e-02],\n",
      "        [-1.7150e-01,  3.4237e-01, -1.7888e-01,  6.0803e-02, -1.1434e-01,\n",
      "         -1.7882e-01,  1.8802e-01,  1.5556e-01],\n",
      "        [ 6.8525e-02,  1.7708e-01, -1.6403e-02, -7.0239e-02,  7.5114e-02,\n",
      "         -5.1266e-01,  2.6056e-01,  2.2160e-01],\n",
      "        [-4.7978e-01,  5.7495e-01, -4.6707e-01,  2.2938e-01,  1.0148e-01,\n",
      "         -2.4979e-02, -3.9921e-01, -8.0060e-02],\n",
      "        [-3.5196e-01, -2.3494e-01, -2.5194e-01, -1.8429e-01, -2.2463e-01,\n",
      "          2.6358e-01, -2.7199e-02,  7.1191e-02],\n",
      "        [ 3.1837e-01, -2.3968e-01, -3.3051e-01, -1.8755e-01,  2.2598e-01,\n",
      "         -1.3413e-01, -5.4096e-02, -9.0549e-02],\n",
      "        [ 8.8596e-02, -5.0171e-01, -1.0655e-01,  4.5822e-01,  6.3497e-02,\n",
      "          2.7354e-01, -2.6971e-01,  1.0188e-01],\n",
      "        [-6.2954e-01, -6.2475e-01,  1.4827e-01,  6.7889e-01, -1.8334e-01,\n",
      "          1.2065e-02,  4.8553e-01, -3.4783e-01],\n",
      "        [ 2.3420e-01, -1.5458e-01,  3.9947e-02, -2.8883e-01,  3.4111e-01,\n",
      "         -1.8880e-01, -5.1510e-02,  1.8573e-01],\n",
      "        [ 2.7034e-01, -3.3130e-01, -1.6129e-01,  3.9058e-01, -2.3578e-01,\n",
      "          2.4865e-01,  1.4895e-01,  2.6775e-01],\n",
      "        [-3.4609e-01,  1.9857e-01, -3.1367e-01,  2.0042e-01,  3.0552e-01,\n",
      "          2.8533e-01, -6.8139e-02, -2.0816e-01],\n",
      "        [ 9.2371e-02,  7.3089e-02,  5.1048e-01, -4.4329e-02,  4.7598e-02,\n",
      "          9.0620e-03,  4.1574e-02, -2.6306e-01],\n",
      "        [-8.8290e-02,  6.0744e-01,  1.6772e-02,  1.3040e-01,  4.7569e-01,\n",
      "          3.9937e-01, -8.9588e-03, -2.7071e-01],\n",
      "        [ 7.9395e-02, -5.1655e-01, -6.5754e-02,  4.3368e-01, -1.4067e-01,\n",
      "          2.2871e-02,  3.4173e-01, -2.8168e-02],\n",
      "        [ 5.0619e-01, -6.0279e-02,  4.3589e-01, -6.2291e-02, -2.1537e-01,\n",
      "          1.8126e-01, -9.9317e-02,  3.1204e-02],\n",
      "        [ 8.9871e-02, -6.5918e-01, -7.5567e-04,  2.6448e-01, -5.5960e-02,\n",
      "         -5.4917e-02,  2.7510e-01, -4.3249e-01],\n",
      "        [-5.0308e-01, -1.9524e-01,  4.1766e-01, -3.1079e-01,  3.0065e-01,\n",
      "         -1.6326e-01,  6.3860e-01, -3.2204e-01],\n",
      "        [-3.9097e-02, -1.2609e-01, -6.2703e-01,  6.2438e-01, -1.4229e-01,\n",
      "          1.2533e-01, -4.2706e-02, -1.1786e-02],\n",
      "        [-1.9934e-01,  7.7107e-02,  2.2181e-01, -2.4319e-01,  5.0873e-02,\n",
      "         -1.8411e-01, -2.7877e-01, -9.6750e-02],\n",
      "        [-2.9938e-01, -2.9189e-01, -2.0340e-01, -1.5296e-01, -1.9746e-01,\n",
      "         -1.6101e-01,  3.7276e-01,  2.1706e-02],\n",
      "        [-1.9486e-02,  4.2490e-01, -2.4569e-02,  3.6812e-01,  1.0753e-01,\n",
      "          2.0116e-01, -4.9846e-01, -3.9994e-02],\n",
      "        [-4.0209e-02, -2.4500e-02, -1.0513e-01,  3.5742e-01,  2.4153e-01,\n",
      "         -2.4123e-01,  1.0113e-01, -1.8614e-01],\n",
      "        [ 1.8137e-01, -1.4120e-01, -6.8732e-02,  1.6623e-02,  9.2420e-02,\n",
      "          2.2529e-01, -8.4019e-02, -1.8791e-02],\n",
      "        [ 2.3747e-01, -1.0014e-01,  1.8482e-02, -2.8328e-01,  2.6540e-01,\n",
      "         -3.7890e-01, -3.3329e-01,  6.7379e-02],\n",
      "        [-1.2795e-02,  3.6480e-01,  3.5073e-01, -3.6949e-01, -5.4612e-01,\n",
      "         -1.8530e-02,  6.0953e-01, -4.0767e-01],\n",
      "        [-4.9007e-02,  2.8375e-01,  1.4856e-01,  2.5898e-01,  3.7565e-01,\n",
      "         -1.0360e-01,  1.5597e-01, -1.2675e-01],\n",
      "        [ 3.8262e-01, -1.4724e-01,  4.4163e-01, -3.2882e-01, -3.7460e-03,\n",
      "         -1.4605e-01,  1.1125e-02, -1.7357e-02],\n",
      "        [-4.0412e-02, -3.8547e-01, -6.8636e-02, -2.4819e-01,  9.3707e-02,\n",
      "         -4.2460e-01,  3.0070e-02,  2.5543e-01],\n",
      "        [-1.0279e-01, -1.1742e-01, -1.7301e-01,  2.0139e-01,  1.0708e-01,\n",
      "          4.5536e-01,  1.4325e-01,  7.7250e-01],\n",
      "        [-1.0483e-01, -1.3955e-01, -1.4070e-01, -2.2599e-01,  6.6935e-02,\n",
      "         -2.2546e-01, -1.5984e-01, -4.5519e-01],\n",
      "        [ 1.9345e-01, -4.1417e-01,  1.6681e-01, -2.9284e-01,  1.6250e-01,\n",
      "          2.4263e-01,  3.7858e-01,  1.7424e-01]],\n",
      "       grad_fn=<MinkowskiConvolutionFunctionBackward>)\n",
      "  coordinate_map_key=coordinate map key:[1, 1, 1]\n",
      "  coordinate_manager=CoordinateMapManagerCPU(\n",
      "\t[1, 1, 1, \b\b]:\tCoordinateMapCPU:46x4\n",
      "\tTensorField [1, 1, 1, \b\b]:\tCoordinateFieldMapCPU:100x4\n",
      "\t[1, 1, 1, \b\b]->[1, 1, 1, \b\b]:\tcpu_kernel_map: number of unique maps:27, kernel map size:592\n",
      "\talgorithm=MinkowskiAlgorithm.DEFAULT\n",
      "  )\n",
      "  spatial dimension=3)\n"
     ]
    }
   ],
   "source": [
    "sparse_conv = ME.MinkowskiConvolution(C, 2*C, kernel_size=3, stride=1, dimension=3)\n",
    "\n",
    "out_stensor = sparse_conv(stensor)\n",
    "print(out_stensor.C.shape) # voxel indices: batch_idx + ijk\n",
    "print(out_stensor.F.shape) # voxel features: 2*C\n",
    "print(out_stensor)"
   ]
  },
  {
   "cell_type": "markdown",
   "id": "3489604d",
   "metadata": {},
   "source": [
    "### 2. Sparse Point-Voxel Convolution"
   ]
  },
  {
   "cell_type": "code",
   "execution_count": 16,
   "id": "94849acb",
   "metadata": {},
   "outputs": [],
   "source": [
    "class SPVConv(nn.Module):\n",
    "    def __init__(self, in_channels, out_channels, kernel_size):\n",
    "        super(SPVConv, self).__init__()\n",
    "        self.in_channels = in_channels\n",
    "        self.out_channels = out_channels\n",
    "        self.kernel_size = kernel_size\n",
    "        \n",
    "        # voxel branch (sparse convolution)\n",
    "        self.sparse_conv = ME.MinkowskiConvolution(in_channels, out_channels, kernel_size=kernel_size, dimension=3)\n",
    "        # point branch (shared MLP)\n",
    "        self.mlp = nn.Sequential(\n",
    "            ME.MinkowskiLinear(in_channels, out_channels, bias=False),\n",
    "            ME.MinkowskiBatchNorm(out_channels),\n",
    "            ME.MinkowskiReLU(True),\n",
    "            ME.MinkowskiLinear(out_channels, out_channels)\n",
    "        )\n",
    "        \n",
    "    def forward(self, tfield: ME.TensorField):\n",
    "        # 1. Voxelization\n",
    "        stensor = tfield.sparse()\n",
    "        \n",
    "        # 2. Feed-forward: voxel branch and point branch\n",
    "        out_stensor = self.sparse_conv(stensor)\n",
    "        out_tfield = self.mlp(tfield)\n",
    "        \n",
    "        # 3. Devoxelize the output sparse tensor to fuse with the output tensor field.\n",
    "        interp_features, _, interp_map, interp_weights = ME.MinkowskiInterpolationFunction().apply(\n",
    "            out_stensor.F, out_tfield.C, out_stensor.coordinate_key, out_stensor.coordinate_manager\n",
    "        )\n",
    "        \n",
    "        # 4. Fuse the outputs.\n",
    "        out = out_tfield.F + interp_features\n",
    "        \n",
    "        return out"
   ]
  },
  {
   "cell_type": "code",
   "execution_count": 17,
   "id": "39641d02",
   "metadata": {},
   "outputs": [
    {
     "name": "stdout",
     "output_type": "stream",
     "text": [
      "torch.Size([100, 8])\n"
     ]
    }
   ],
   "source": [
    "N1 = 100\n",
    "C = 4 # the dimension of point-wise features\n",
    "l = 1. # voxel size\n",
    "\n",
    "points = torch.randn(N, 3)\n",
    "features = torch.randn(N, C)\n",
    "\n",
    "tfield = ME.TensorField(\n",
    "    features=features,\n",
    "    coordinates=ME.utils.batched_coordinates([points / l], dtype=torch.float32)\n",
    ")\n",
    "spv_conv = SPVConv(C, 2*C, kernel_size=3)\n",
    "out_features = spv_conv(tfield)\n",
    "\n",
    "print(out_features.shape)"
   ]
  }
 ],
 "metadata": {
  "kernelspec": {
   "display_name": "Python 3 (ipykernel)",
   "language": "python",
   "name": "python3"
  },
  "language_info": {
   "codemirror_mode": {
    "name": "ipython",
    "version": 3
   },
   "file_extension": ".py",
   "mimetype": "text/x-python",
   "name": "python",
   "nbconvert_exporter": "python",
   "pygments_lexer": "ipython3",
   "version": "3.7.12"
  }
 },
 "nbformat": 4,
 "nbformat_minor": 5
}
