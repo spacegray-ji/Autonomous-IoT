{
  "nbformat": 4,
  "nbformat_minor": 0,
  "metadata": {
    "colab": {
      "provenance": []
    },
    "kernelspec": {
      "name": "python3",
      "display_name": "Python 3"
    },
    "language_info": {
      "name": "python"
    }
  },
  "cells": [
    {
      "cell_type": "code",
      "execution_count": null,
      "metadata": {
        "id": "MJTVfOJzYtRr"
      },
      "outputs": [],
      "source": [
        "import time\n",
        "import datetime\n",
        "\n",
        "\n",
        "\n"
      ]
    },
    {
      "cell_type": "code",
      "source": [
        "class Timer(object):\n",
        "    \"\"\"\n",
        "    A simple timer.\n",
        "    \"\"\"\n",
        "\n",
        "    def __init__(self):\n",
        "        self.init_time = time.time()\n",
        "        self.total_time = 0.\n",
        "        self.calls = 0\n",
        "        self.start_time = 0.\n",
        "        self.diff = 0.\n",
        "        self.average_time = 0.\n",
        "        self.remain_time = 0.\n",
        "\n",
        "    def tic(self):\n",
        "        # using time.time instead of time.clock because time time.clock\n",
        "        # does not normalize for multithreading\n",
        "        self.start_time = time.time()\n",
        "\n",
        "    def toc(self, average=True):\n",
        "        self.diff = time.time() - self.start_time\n",
        "        self.total_time += self.diff\n",
        "        self.calls += 1\n",
        "        self.average_time = self.total_time / self.calls\n",
        "        if average:\n",
        "            return self.average_time\n",
        "        else:\n",
        "            return self.diff\n",
        "\n",
        "    def remain(self, iters, max_iters):\n",
        "        if iters == 0:\n",
        "            self.remain_time = 0\n",
        "        else:\n",
        "            self.remain_time = (time.time() - self.init_time) * \\\n",
        "                (max_iters - iters) / iters\n",
        "        return str(datetime.timedelta(seconds=int(self.remain_time)))"
      ],
      "metadata": {
        "id": "CCs9ksL4Yxq-"
      },
      "execution_count": null,
      "outputs": []
    }
  ]
}