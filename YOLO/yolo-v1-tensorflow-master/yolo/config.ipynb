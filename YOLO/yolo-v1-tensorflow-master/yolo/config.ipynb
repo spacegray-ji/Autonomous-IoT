{
  "nbformat": 4,
  "nbformat_minor": 0,
  "metadata": {
    "colab": {
      "provenance": []
    },
    "kernelspec": {
      "name": "python3",
      "display_name": "Python 3"
    },
    "language_info": {
      "name": "python"
    }
  },
  "cells": [
    {
      "cell_type": "code",
      "execution_count": null,
      "metadata": {
        "id": "zyMKM_WLT2HW"
      },
      "outputs": [],
      "source": [
        "import os\n",
        "\n",
        "\n",
        "\n",
        "\n"
      ]
    },
    {
      "cell_type": "code",
      "source": [
        "DATA_PATH = 'data'  \n",
        "\n",
        "PASCAL_PATH = os.path.join(DATA_PATH, 'pascal_voc')  \n",
        "\n",
        "CACHE_PATH = os.path.join(PASCAL_PATH, 'cache')  \n",
        "\n",
        "OUTPUT_DIR = os.path.join(PASCAL_PATH, 'output')  \n",
        "WEIGHTS_DIR = os.path.join(DATA_PATH, 'weights')  \n",
        "WEIGHTS_META = 'YOLO.meta'\n",
        "# WEIGHTS_FILE = None\n",
        "WEIGHTS_FILE = os.path.join(DATA_PATH, 'weights', 'YOLO_small.ckpt') \n",
        "CLASSES = ['aeroplane', 'bicycle', 'bird', 'boat', 'bottle', 'bus',\n",
        "           'car', 'cat', 'chair', 'cow', 'diningtable', 'dog', 'horse',\n",
        "           'motorbike', 'person', 'pottedplant', 'sheep', 'sofa',\n",
        "           'train', 'tvmonitor']  \n",
        "\n",
        "FLIPPED = True  \n",
        "\n",
        "\n",
        "\n",
        "IMAGE_SIZE = 448  \n",
        "\n",
        "CELL_SIZE = 7  \n",
        "\n",
        "BOXES_PER_CELL = 2  \n",
        "\n",
        "ALPHA = 0.1  \n",
        "DISP_CONSOLE = False  \n",
        "\n",
        "\n",
        "OBJECT_SCALE = 1.0  \n",
        "NOOBJECT_SCALE = 1.0  \n",
        "CLASS_SCALE = 2.0  \n",
        "COORD_SCALE = 5.0  \n",
        "\n",
        "\"\"\"\n",
        "solver parameter\n",
        "训练参数设置\n",
        "\"\"\"\n",
        "\n",
        "GPU = ''\n",
        "\n",
        "LEARNING_RATE = 0.0001  \n",
        "\n",
        "DECAY_STEPS = 30000  \n",
        "\n",
        "DECAY_RATE = 0.1 \n",
        "\n",
        "STAIRCASE = True\n",
        "\n",
        "BATCH_SIZE = 45  \n",
        "MAX_ITER = 15000  \n",
        "\n",
        "SUMMARY_ITER = 10  \n",
        "\n",
        "SAVE_ITER = 1000  \n",
        "\n",
        "\"\"\"\n",
        "test parameter\n",
        "测试相关参数\n",
        "\"\"\"\n",
        "\n",
        "THRESHOLD = 0.2  # cell 有目标的置信度阈值\n",
        "\n",
        "IOU_THRESHOLD = 0.5  # 非极大抑制 IOU阈值"
      ],
      "metadata": {
        "id": "b7JjdXAvUCRK"
      },
      "execution_count": null,
      "outputs": []
    },
    {
      "cell_type": "code",
      "source": [],
      "metadata": {
        "id": "1cnd_I8gT93L"
      },
      "execution_count": null,
      "outputs": []
    }
  ]
}